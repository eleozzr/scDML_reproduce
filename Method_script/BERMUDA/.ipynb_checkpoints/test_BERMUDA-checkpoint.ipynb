{
 "cells": [
  {
   "cell_type": "markdown",
   "metadata": {},
   "source": [
    "# 运行R（需要在docker环境中运行）"
   ]
  },
  {
   "cell_type": "markdown",
   "metadata": {},
   "source": [
    "## bct数据集"
   ]
  },
  {
   "cell_type": "code",
   "execution_count": null,
   "metadata": {},
   "outputs": [],
   "source": [
    "Rscript BERMUDA_R.R -d \"bct\" -v 1 -s 1\n",
    "## 注意不是 Rscript BERMUDA_preprocess.R -d \"bct\" -v 1 -s 1"
   ]
  },
  {
   "cell_type": "markdown",
   "metadata": {},
   "source": [
    "## bct_del数据集"
   ]
  },
  {
   "cell_type": "code",
   "execution_count": null,
   "metadata": {},
   "outputs": [],
   "source": [
    "Rscript BERMUDA_R.R -d \"bct\" -v 1 -s 1"
   ]
  },
  {
   "cell_type": "markdown",
   "metadata": {},
   "source": [
    "## sim2数据集"
   ]
  },
  {
   "cell_type": "code",
   "execution_count": null,
   "metadata": {},
   "outputs": [],
   "source": [
    "Rscript BERMUDA_R.R -d \"sim2\" -v 1 -s 1"
   ]
  },
  {
   "cell_type": "markdown",
   "metadata": {},
   "source": [
    "# 测试运行BERMUMDA"
   ]
  },
  {
   "cell_type": "code",
   "execution_count": null,
   "metadata": {
    "ExecuteTime": {
     "start_time": "2022-01-12T08:14:26.264Z"
    }
   },
   "outputs": [
    {
     "name": "stdout",
     "output_type": "stream",
     "text": [
      "method= BERMUDA\n",
      "dataset= bct\n",
      "['bct_batch_1_seurat.csv', 'bct_batch_2_seurat.csv', 'bct_batch_3_seurat.csv']\n",
      "[[ 1.  5.  1.]\n",
      " [ 1.  9.  1.]\n",
      " [ 1. 12.  1.]\n",
      " [ 1. 15.  1.]\n",
      " [ 2.  8.  1.]\n",
      " [ 2. 13.  1.]\n",
      " [ 3.  6.  1.]\n",
      " [ 3.  7.  1.]\n",
      " [ 3. 14.  1.]\n",
      " [ 4. 10.  1.]\n",
      " [ 4. 13.  1.]\n",
      " [ 6. 14.  1.]\n",
      " [ 7. 14.  1.]\n",
      " [ 8. 13.  1.]\n",
      " [10. 13.  1.]]\n",
      "Wed Jan 12 16:14:36 2022, Epoch 1, learning rate 1.000E-03, gamma 2.449E-01\n",
      "Avg_loss 1.822E+00\t Avg_reconstruct_loss 1.545E+00\t Avg_transfer_loss 1.131E+00\n",
      "Wed Jan 12 16:14:40 2022, Epoch 2, learning rate 1.000E-03, gamma 4.621E-01\n",
      "Avg_loss 1.414E+00\t Avg_reconstruct_loss 1.132E+00\t Avg_transfer_loss 6.101E-01\n",
      "Wed Jan 12 16:14:43 2022, Epoch 3, learning rate 1.000E-03, gamma 6.351E-01\n",
      "Avg_loss 1.362E+00\t Avg_reconstruct_loss 1.094E+00\t Avg_transfer_loss 4.217E-01\n",
      "Wed Jan 12 16:14:45 2022, Epoch 4, learning rate 1.000E-03, gamma 7.616E-01\n",
      "Avg_loss 1.293E+00\t Avg_reconstruct_loss 1.086E+00\t Avg_transfer_loss 2.715E-01\n",
      "Wed Jan 12 16:14:48 2022, Epoch 5, learning rate 1.000E-03, gamma 8.483E-01\n",
      "Avg_loss 1.230E+00\t Avg_reconstruct_loss 1.084E+00\t Avg_transfer_loss 1.726E-01\n",
      "Wed Jan 12 16:14:51 2022, Epoch 6, learning rate 1.000E-03, gamma 9.051E-01\n",
      "Avg_loss 1.182E+00\t Avg_reconstruct_loss 1.082E+00\t Avg_transfer_loss 1.100E-01\n",
      "Wed Jan 12 16:14:54 2022, Epoch 7, learning rate 1.000E-03, gamma 9.414E-01\n",
      "Avg_loss 1.147E+00\t Avg_reconstruct_loss 1.079E+00\t Avg_transfer_loss 7.214E-02\n",
      "Wed Jan 12 16:14:58 2022, Epoch 8, learning rate 1.000E-03, gamma 9.640E-01\n",
      "Avg_loss 1.124E+00\t Avg_reconstruct_loss 1.075E+00\t Avg_transfer_loss 5.117E-02\n",
      "Wed Jan 12 16:15:01 2022, Epoch 9, learning rate 1.000E-03, gamma 9.780E-01\n",
      "Avg_loss 1.104E+00\t Avg_reconstruct_loss 1.068E+00\t Avg_transfer_loss 3.679E-02\n",
      "Wed Jan 12 16:15:04 2022, Epoch 10, learning rate 1.000E-03, gamma 9.866E-01\n",
      "Avg_loss 1.090E+00\t Avg_reconstruct_loss 1.060E+00\t Avg_transfer_loss 3.120E-02\n",
      "Wed Jan 12 16:15:07 2022, Epoch 11, learning rate 1.000E-03, gamma 9.919E-01\n",
      "Avg_loss 1.078E+00\t Avg_reconstruct_loss 1.050E+00\t Avg_transfer_loss 2.783E-02\n",
      "Wed Jan 12 16:15:10 2022, Epoch 12, learning rate 1.000E-03, gamma 9.951E-01\n",
      "Avg_loss 1.067E+00\t Avg_reconstruct_loss 1.038E+00\t Avg_transfer_loss 2.918E-02\n",
      "Wed Jan 12 16:15:12 2022, Epoch 13, learning rate 1.000E-03, gamma 9.970E-01\n",
      "Avg_loss 1.055E+00\t Avg_reconstruct_loss 1.026E+00\t Avg_transfer_loss 2.949E-02\n",
      "Wed Jan 12 16:15:15 2022, Epoch 14, learning rate 1.000E-03, gamma 9.982E-01\n",
      "Avg_loss 1.042E+00\t Avg_reconstruct_loss 1.012E+00\t Avg_transfer_loss 3.038E-02\n",
      "Wed Jan 12 16:15:18 2022, Epoch 15, learning rate 1.000E-03, gamma 9.989E-01\n",
      "Avg_loss 1.028E+00\t Avg_reconstruct_loss 9.970E-01\t Avg_transfer_loss 3.156E-02\n",
      "Wed Jan 12 16:15:21 2022, Epoch 16, learning rate 1.000E-03, gamma 9.993E-01\n",
      "Avg_loss 1.018E+00\t Avg_reconstruct_loss 9.848E-01\t Avg_transfer_loss 3.318E-02\n",
      "Wed Jan 12 16:15:23 2022, Epoch 17, learning rate 1.000E-03, gamma 9.996E-01\n",
      "Avg_loss 1.013E+00\t Avg_reconstruct_loss 9.798E-01\t Avg_transfer_loss 3.294E-02\n",
      "Wed Jan 12 16:15:26 2022, Epoch 18, learning rate 1.000E-03, gamma 9.998E-01\n",
      "Avg_loss 1.007E+00\t Avg_reconstruct_loss 9.731E-01\t Avg_transfer_loss 3.393E-02\n",
      "Wed Jan 12 16:15:29 2022, Epoch 19, learning rate 1.000E-03, gamma 9.999E-01\n",
      "Avg_loss 1.000E+00\t Avg_reconstruct_loss 9.653E-01\t Avg_transfer_loss 3.479E-02\n",
      "Wed Jan 12 16:15:32 2022, Epoch 20, learning rate 1.000E-03, gamma 9.999E-01\n",
      "Avg_loss 1.000E+00\t Avg_reconstruct_loss 9.658E-01\t Avg_transfer_loss 3.433E-02\n"
     ]
    }
   ],
   "source": [
    "%run run_BERMUDA.py --dataset \"bct\""
   ]
  },
  {
   "cell_type": "code",
   "execution_count": null,
   "metadata": {},
   "outputs": [],
   "source": []
  }
 ],
 "metadata": {
  "kernelspec": {
   "display_name": "scDML",
   "language": "python",
   "name": "scdml"
  },
  "language_info": {
   "codemirror_mode": {
    "name": "ipython",
    "version": 3
   },
   "file_extension": ".py",
   "mimetype": "text/x-python",
   "name": "python",
   "nbconvert_exporter": "python",
   "pygments_lexer": "ipython3",
   "version": "3.6.10"
  },
  "toc": {
   "base_numbering": 1,
   "nav_menu": {},
   "number_sections": true,
   "sideBar": true,
   "skip_h1_title": false,
   "title_cell": "Table of Contents",
   "title_sidebar": "Contents",
   "toc_cell": false,
   "toc_position": {},
   "toc_section_display": true,
   "toc_window_display": false
  }
 },
 "nbformat": 4,
 "nbformat_minor": 2
}
