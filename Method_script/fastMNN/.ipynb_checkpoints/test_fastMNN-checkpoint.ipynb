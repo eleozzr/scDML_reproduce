{
 "cells": [
  {
   "cell_type": "markdown",
   "metadata": {},
   "source": [
    "# 脚本运行"
   ]
  },
  {
   "cell_type": "markdown",
   "metadata": {},
   "source": [
    "## bct数据集"
   ]
  },
  {
   "cell_type": "code",
   "execution_count": 1,
   "metadata": {},
   "outputs": [],
   "source": [
    "# Rscript fastMNN.R -d \"bct\" -v 1 -s 1\n",
    "\n",
    "# 或者 \n",
    "\n",
    "# nohup Rscript fastMNN.R -d \"bct\" -v 1 -s 1 > ../result/bct/fastMNN/bct_run_fastMNN_log.txt 2>&1&\n"
   ]
  },
  {
   "cell_type": "markdown",
   "metadata": {},
   "source": [
    "## bct_del数据集"
   ]
  },
  {
   "cell_type": "code",
   "execution_count": 2,
   "metadata": {},
   "outputs": [],
   "source": [
    "# nohup Rscript fastMNN.R -d \"bct_del\" -v 0 -s 1 > ../result/bct_del/fastMNN/bct_del_run_fastMNN_log.txt 2>&1&\n",
    "\n",
    "# Rscript fastMNN.R -d \"bct_del\" -v 1 -s 1"
   ]
  },
  {
   "cell_type": "markdown",
   "metadata": {},
   "source": [
    "## sim2数据集"
   ]
  },
  {
   "cell_type": "code",
   "execution_count": 3,
   "metadata": {},
   "outputs": [],
   "source": [
    "#Rscript fastMNN.R -d \"sim2\" -v 1 -s 1"
   ]
  },
  {
   "cell_type": "markdown",
   "metadata": {},
   "source": [
    "# 测试结果"
   ]
  },
  {
   "cell_type": "code",
   "execution_count": 4,
   "metadata": {
    "ExecuteTime": {
     "end_time": "2021-12-24T10:47:53.608004Z",
     "start_time": "2021-12-24T10:47:39.834Z"
    }
   },
   "outputs": [
    {
     "name": "stdout",
     "output_type": "stream",
     "text": [
      "     \n",
      "      basal luminal_mature luminal_progenitor\n",
      "  spk   475           1043               1097\n",
      "  vis  1257           1096                694\n",
      "  wal   780           2117                729\n",
      "[1] \"=====================================\"\n",
      "class: SingleCellExperiment \n",
      "dim: 1222 9288 \n",
      "metadata(0):\n",
      "assays(2): counts logcounts\n",
      "rownames(1222): ENSMUSG00000092341 ENSMUSG00000029580 ...\n",
      "  ENSMUSG00000022949 ENSMUSG00000028545\n",
      "rowData names(0):\n",
      "colnames(9288): vis1 vis2 ... wal4374 wal4375\n",
      "colData names(13): orig.ident nCount_RNA ... cellname ident\n",
      "reducedDimNames(0):\n",
      "mainExpName: RNA\n",
      "altExpNames(0):\n"
     ]
    }
   ],
   "source": [
    "rm(list=ls())\n",
    "suppressPackageStartupMessages({\n",
    "  library(SummarizedExperiment)\n",
    "  library(SingleCellExperiment)\n",
    "  library(scater)\n",
    "  library(ggplot2)\n",
    "  library(scran)\n",
    "  library(batchelor)\n",
    "  library(Seurat)\n",
    "  library(SeuratWrappers)\n",
    "  library(tidyverse)\n",
    "  library(patchwork)\n",
    "  library(cowplot)\n",
    "  library(SeuratDisk)\n",
    "})\n",
    "####################### parameter setting ###############################\n",
    "method=\"fastMNN\"\n",
    "dataset=\"bct\"\n",
    "\n",
    "save_folder=\"../../dataset/bct/\"\n",
    "dataset=\"bct\"\n",
    "file_name=\"bct_multi_raw.rds\"\n",
    "data <- readRDS(paste0(save_folder,file_name))\n",
    "################# 设置celltype 和 BATCH 属性\n",
    "colData(data)$BATCH=colData(data)$study \n",
    "colData(data)$celltype=colData(data)$cell.class\n",
    "####################### parameter setting ###############################\n",
    "\n",
    "print(table(colData(data)$BATCH , colData(data)$celltype))\n",
    "print(\"=====================================\")\n",
    "print(data)"
   ]
  },
  {
   "cell_type": "code",
   "execution_count": 5,
   "metadata": {
    "ExecuteTime": {
     "end_time": "2021-12-24T10:49:44.404100Z",
     "start_time": "2021-12-24T10:48:41.359Z"
    }
   },
   "outputs": [
    {
     "ename": "ERROR",
     "evalue": "Error in parse(text = x, srcfile = src): <text>:17:1: unexpected input\n16: p = p1 + p2\n17: %print(p)\n    ^\n",
     "output_type": "error",
     "traceback": [
      "Error in parse(text = x, srcfile = src): <text>:17:1: unexpected input\n16: p = p1 + p2\n17: %print(p)\n    ^\nTraceback:\n"
     ]
    }
   ],
   "source": [
    "method=\"fastMNN\"\n",
    "options(repr.plot.width=12,repr.plot.height=5)\n",
    "data_seurat=CreateSeuratObject(counts = counts(data),meta.data = as.data.frame(colData(data)))\n",
    "scRNAlist <- SplitObject(data_seurat, split.by = \"BATCH\")\n",
    "scRNAlist <- lapply(scRNAlist, FUN = function(x) NormalizeData(x))\n",
    "scRNAlist <- lapply(scRNAlist, FUN = function(x) FindVariableFeatures(x))\n",
    "                    \n",
    "scRNA <- RunFastMNN(object.list = scRNAlist,verbose=FALSE)\n",
    "scRNA <- RunUMAP(scRNA, reduction = \"mnn\", dims = 1:30,verbose=FALSE)\n",
    "scRNA <- FindNeighbors(scRNA, reduction = \"mnn\", dims = 1:30,verbose=FALSE)\n",
    "scRNA <- FindClusters(scRNA,verbose=FALSE)\n",
    "p1 <- DimPlot(scRNA, group.by = \"BATCH\",label.size = 10) + \n",
    "      ggtitle(\"Integrated Batch\")\n",
    "p2 <- DimPlot(scRNA, group.by=\"celltype\",label.size = 10) + \n",
    "      ggtitle(\"Integrated Celltype\")\n",
    "p = p1 + p2\n",
    "print(p)"
   ]
  },
  {
   "cell_type": "code",
   "execution_count": null,
   "metadata": {},
   "outputs": [],
   "source": [
    "## 这个结果和我用R文件跑的相同"
   ]
  },
  {
   "cell_type": "code",
   "execution_count": null,
   "metadata": {},
   "outputs": [],
   "source": [
    "#Rscript fastMNN.R -d \"bct\" -v 0 -s 1"
   ]
  }
 ],
 "metadata": {
  "kernelspec": {
   "display_name": "R4",
   "language": "R",
   "name": "r4"
  },
  "language_info": {
   "codemirror_mode": "r",
   "file_extension": ".r",
   "mimetype": "text/x-r-source",
   "name": "R",
   "pygments_lexer": "r",
   "version": "4.1.3"
  },
  "toc": {
   "base_numbering": 1,
   "nav_menu": {},
   "number_sections": true,
   "sideBar": true,
   "skip_h1_title": false,
   "title_cell": "Table of Contents",
   "title_sidebar": "Contents",
   "toc_cell": false,
   "toc_position": {},
   "toc_section_display": true,
   "toc_window_display": false
  }
 },
 "nbformat": 4,
 "nbformat_minor": 2
}
